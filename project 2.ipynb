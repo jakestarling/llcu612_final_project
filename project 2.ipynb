{
 "metadata": {
  "name": "",
  "signature": "sha256:9102e6a14abbff758dd6a02a070ec3fd13f3a4d0e2546d0e07dceb7065a84f44"
 },
 "nbformat": 3,
 "nbformat_minor": 0,
 "worksheets": [
  {
   "cells": [
    {
     "cell_type": "markdown",
     "metadata": {},
     "source": [
      "This project is going to be a continuation of what has already been done in the previous one. Namely, I will be working with the same corpus of English and American science fiction of the 20th century: Nineteen Eighty-Four by G. Orwell (1949), Player Piano by Kurt Vonnegut (1952), Lord of the Flies by W. Golding (1954), This Perfect Day by Ira Levin (1970), and Neuromancer by W. Gibson (1984), but pursuing different objectives this time. In the previous project I studied the use of technological and weapon words in the novels, and their percentage in each novel under consideration. Therefore, I found out that what constructs a dystopian novel is weapons much rather than technology, and this conclusion was pretty surprising for me. This time I will be dealing with two new things: conducting a general sentiment analysis of the texts and putting the weapon words in them under close scrutiny as well. This I will do by way of putting them into the context of the sentiment analysis. I will split the texts into equal parts, derive sentiment and weapon usage information from them, and make comparisons in the form of heat maps (using numpy's pcolor), scatter plots, and their best-fit lines via the \"least squares\" method."
     ]
    },
    {
     "cell_type": "code",
     "collapsed": false,
     "input": [
      "import numpy as np"
     ],
     "language": "python",
     "metadata": {},
     "outputs": [],
     "prompt_number": 1
    },
    {
     "cell_type": "markdown",
     "metadata": {},
     "source": [
      "Let's do some preparation by importing the books we will be working with from .fb2 e-book files, and---using beautiful soup---extract the plaintext into a workable dictionary and tokenize and lemmatize those plaintexts."
     ]
    },
    {
     "cell_type": "code",
     "collapsed": false,
     "input": [
      "# Read the books\n",
      "import os\n",
      "import glob\n",
      "\n",
      "directory = \"data\\\\project\"\n",
      "files = directory + \"/*.fb2\"\n",
      "\n",
      "bookPathList = glob.glob(files)\n",
      "bookTextList = []\n",
      "\n",
      "for path in bookPathList:\n",
      "    handle = open(path, \"r\", encoding=\"utf8\")\n",
      "    text = handle.read()\n",
      "    handle.close()\n",
      "    bookTextList.append(text)\n",
      "   \n",
      "# Extract plaintext from XML\n",
      "from bs4 import BeautifulSoup\n",
      "bookXmlList = []\n",
      "for bookText in bookTextList:\n",
      "    xml = BeautifulSoup(bookText)\n",
      "    bookXmlList.append(xml)\n",
      "    \n",
      "books = {}\n",
      "for soup in bookXmlList: \n",
      "    title = soup.find(\"book-title\").get_text().strip().lower()\n",
      "    books[title] = {}\n",
      "    books[title][\"text\"] = soup.find(\"body\").get_text(\" \").lower()\n",
      "    \n",
      "for title in books:\n",
      "    print(title)\n",
      "    \n",
      "# Tokenize and lemmatize\n",
      "import nltk\n",
      "from nltk.stem import WordNetLemmatizer\n",
      "wnl = WordNetLemmatizer()\n",
      "\n",
      "stopwords = nltk.corpus.stopwords.words(\"English\")\n",
      "\n",
      "for title in books:\n",
      "    tokens = nltk.word_tokenize(books[title][\"text\"])\n",
      "    books[title][\"unfiltered\"] = tokens\n",
      "    books[title][\"tokens\"] = [word for word in tokens if word not in stopwords]\n",
      "    books[title][\"lemmas\"] = [wnl.lemmatize(word) for word in books[title][\"tokens\"]]\n",
      "    \n",
      "f = open(\"data\\\\project\\\\weapons.txt\", \"r\")\n",
      "weapons_content = f.read()\n",
      "f.close()\n",
      "\n",
      "weapons_tokens = nltk.word_tokenize(weapons_content.replace(os.linesep, \" \").lower())\n",
      "weapons_tokens = [word for word in weapons_tokens if word not in stopwords]\n",
      "weapons_lemmas = [wnl.lemmatize(word) for word in weapons_tokens]"
     ],
     "language": "python",
     "metadata": {},
     "outputs": [
      {
       "output_type": "stream",
       "stream": "stdout",
       "text": [
        "neuromancer\n",
        "lord of the flies\n",
        "1984\n",
        "player piano (utopia 14)\n",
        "this perfect day\n"
       ]
      }
     ],
     "prompt_number": 2
    },
    {
     "cell_type": "markdown",
     "metadata": {},
     "source": [
      "Let's also define a few utility functions. These we have adapted from the sentiment analysis notebook with a few small tweaks or improvements."
     ]
    },
    {
     "cell_type": "code",
     "collapsed": false,
     "input": [
      "import nltk\n",
      "from nltk.corpus import sentiwordnet as swn\n",
      "\n",
      "# Convert a treebank part-of-speech tag into a wordnet speech position\n",
      "def treebank_to_wordnet_pos(treebank, skipWordNetPos=[]):\n",
      "    if \"NN\" in treebank and \"n\" not in skipWordNetPos: # singular and plural nouns (NN, NNS)\n",
      "        return \"n\"\n",
      "    elif \"JJ\" in treebank and \"a\" not in skipWordNetPos: # adjectives (JJ, JJR, JJS)\n",
      "        return \"a\" \n",
      "    elif \"VB\" in treebank and \"v\" not in skipWordNetPos: # verbs (VB, VBD, VBG, VBN, VBP, VBZ)\n",
      "        return \"v\"\n",
      "    elif \"RB\" in treebank and \"r\" not in skipWordNetPos: # adverbs (RB, RBR, RBS)\n",
      "        return \"r\"\n",
      "    \n",
      "# Get sentiment score from a tagged word. I made a small improvement here: rather\n",
      "# than blindly taking the first definition's sentiment score, the function now finds \n",
      "# the average sentiment from each definition/synset that matches the treebank part \n",
      "# of speech.\n",
      "def get_sentiment_score_from_tagged(token, treebank, skipWordNetPos=[]):\n",
      "    wordnet_pos = treebank_to_wordnet_pos(treebank, skipWordNetPos)\n",
      "    if wordnet_pos: # only print matches\n",
      "        senti_synsets = list(swn.senti_synsets(token, wordnet_pos))\n",
      "        count = 0\n",
      "        sum = 0.0\n",
      "        for senti_synset in senti_synsets:\n",
      "            if (senti_synset.synset.pos() == wordnet_pos):\n",
      "                count += 1\n",
      "                sum += (senti_synset.pos_score() - senti_synset.neg_score())\n",
      "        if (count > 0):\n",
      "            return sum / count\n",
      "        else:\n",
      "            return 0.0\n",
      "    else:\n",
      "        return 0.0\n",
      "            \n",
      "\n",
      "# Get sentiment average from a list of tokens        \n",
      "def get_sentiment_data_from_tokens(tokens, skipWordNetPos=[], bounds=0):\n",
      "    tagged = nltk.pos_tag(tokens)\n",
      "    positives = []\n",
      "    negatives = []\n",
      "    tokens_score = 0\n",
      "    for word, treebank in tagged:\n",
      "        score = get_sentiment_score_from_tagged(word, treebank, skipWordNetPos)\n",
      "        if score:\n",
      "            if bounds == 0:\n",
      "                filtered_score = score\n",
      "            else:\n",
      "                if score > bounds:\n",
      "                    filtered_score = bounds\n",
      "                elif score < -1 * bounds:\n",
      "                    filtered_score = -1 * bounds\n",
      "                else:\n",
      "                    filtered_score = score\n",
      "            \n",
      "            tokens_score += filtered_score\n",
      "            if score > 0:\n",
      "                positives.append(word.lower())\n",
      "            else:\n",
      "                negatives.append(word.lower())\n",
      "    return (tokens_score / len(tagged)), set(positives), set(negatives)"
     ],
     "language": "python",
     "metadata": {},
     "outputs": [],
     "prompt_number": 3
    },
    {
     "cell_type": "code",
     "collapsed": false,
     "input": [
      "# Utility function for splitting arrays into chunks\n",
      "# Source: http://stackoverflow.com/questions/312443/how-do-you-split-a-list-into-evenly-sized-chunks-in-python\n",
      "import math\n",
      "\n",
      "def slice_it(li, cols=2):\n",
      "    start = 0\n",
      "    for i in range(cols):\n",
      "        stop = start + len(li[i::cols])\n",
      "        yield li[start:stop]\n",
      "        start = stop"
     ],
     "language": "python",
     "metadata": {},
     "outputs": [],
     "prompt_number": 58
    },
    {
     "cell_type": "markdown",
     "metadata": {},
     "source": [
      "Now we get to the meat of the issue. I am interested in comparing how the tone or sentiment of a story trends in each chapter throughout the book. Since books have wildly different chapter lengths, and I lack an algorithm for extracting individual chapters, I will resort to a simpler method: dividing each book into a number of equal segments, and drawing our comparisons from there. \n",
      "\n",
      "The following code will split the texts up into \"bags\" of words, and then find the average sentiment for each bag."
     ]
    },
    {
     "cell_type": "code",
     "collapsed": false,
     "input": [
      "import math\n",
      "\n",
      "sentiment_data = {}\n",
      "weapon_data = {}\n",
      "num_bags = 20\n",
      "for title in books:    \n",
      "    bags = list(slice_it(books[title][\"tokens\"], num_bags))\n",
      "    \n",
      "    sentiment_data[title] = []\n",
      "    for bag in bags:\n",
      "        sentiment, positives, negatives = get_sentiment_data_from_tokens(bag)\n",
      "        sentiment_data[title].append(sentiment)\n",
      "    \n",
      "#print(sentiment_data)"
     ],
     "language": "python",
     "metadata": {},
     "outputs": [],
     "prompt_number": 135
    },
    {
     "cell_type": "markdown",
     "metadata": {},
     "source": [
      "Since I also want to draw comparisons between the change in sentiment and the changing usage of weapon words, it also makes sense to normalize both datasets."
     ]
    },
    {
     "cell_type": "code",
     "collapsed": false,
     "input": [
      "# Source: http://stats.stackexchange.com/questions/70801/how-to-normalize-data-to-0-1-range\n",
      "normalized_sentiment_data = []\n",
      "max_val = 0\n",
      "min_val = 0\n",
      "for title in sentiment_data:\n",
      "    row = []\n",
      "    for value in sentiment_data[title]:\n",
      "        if value > max_val:\n",
      "            max_val = value\n",
      "        elif value < min_val:\n",
      "            min_val = value\n",
      "   \n",
      "for title in sentiment_data:\n",
      "    row = []\n",
      "    for value in sentiment_data[title]:\n",
      "        norm_value = (value - min_val) / (max_val - min_val)\n",
      "        row.append(norm_value)\n",
      "    normalized_sentiment_data.append(row)        \n",
      "        \n",
      "#print(normalized_sentiment_data)          \n",
      "\n",
      "weapon_data = {}\n",
      "num_bags = 20\n",
      "weapon_max = 0\n",
      "weapon_min = 1\n",
      "for title in books:\n",
      "    bags = list(slice_it(books[title][\"lemmas\"], num_bags))\n",
      "\n",
      "    weapon_data[title] = []\n",
      "    for bag in bags:\n",
      "        weapon_count = 0\n",
      "        for word in bag:\n",
      "            if word in weapons_lemmas:\n",
      "                weapon_count += 1\n",
      "        weapon_percent = weapon_count / len(books[title][\"lemmas\"])\n",
      "        weapon_data[title].append(weapon_percent)\n",
      "        if weapon_percent > weapon_max:\n",
      "            weapon_max = weapon_percent\n",
      "        elif weapon_percent < weapon_min:\n",
      "            weapon_min = weapon_percent\n",
      "\n",
      "normalized_weapon_data = []\n",
      "for title in weapon_data:\n",
      "    row = []\n",
      "    for value in weapon_data[title]:\n",
      "        norm_value = (value - weapon_min) / (weapon_max - weapon_min)\n",
      "        row.append(norm_value)\n",
      "    normalized_weapon_data.append(row)   \n",
      "            \n",
      "#print(normalized_weapon_data)"
     ],
     "language": "python",
     "metadata": {},
     "outputs": [],
     "prompt_number": 137
    },
    {
     "cell_type": "markdown",
     "metadata": {},
     "source": [
      "In the previous project I used simple line charts to plot data, but it would be much more interesting to use a type of heap map to make quick visual comparisons on the whole corpus. To draw the heat map I use the \"pcolor\" function from numpy, which simply converts our normalized values into colors."
     ]
    },
    {
     "cell_type": "code",
     "collapsed": false,
     "input": [
      "# Source: http://www.bertplot.com/visualization/?p=292\n",
      "import numpy as np\n",
      "%matplotlib inline\n",
      "#data = np.array([[12.66178731132628, -7.1078476450363395, 4.9885373521597565, 5.052445736635747, 7.167156760913025, 0.9215098773324027, 4.764846783672072, 5.022633330851844, 2.6395015853665065, 1.439919269776978, 16.804201392602724, -3.3889507441097284, 3.3795892458430368, -4.516446323099336, -8.893766521349438, -9.29789291686943, -2.0903473985315015, -11.35465070364567, -10.75299387579246, -0.2725948939797679]])\n",
      "import matplotlib.pyplot as plt\n",
      "import numpy as np\n",
      "column_labels = list([book for book in books])\n",
      "row_labels = list(range(0, num_bags))\n",
      "data = np.array(normalized_sentiment_data)\n",
      "fig, ax = plt.subplots()\n",
      "heatmap = ax.pcolor(data, vmin=-1, vmax=1, cmap=plt.cm.Greens)\n",
      "\n",
      "# put the major ticks at the middle of each cell\n",
      "ax.set_xticks(np.arange(0,num_bags)+0.5, minor=False)\n",
      "ax.set_yticks(np.arange(0,5)+0.5, minor=False)\n",
      "\n",
      "# want a more natural, table-like display\n",
      "ax.invert_yaxis()\n",
      "ax.xaxis.tick_top()\n",
      "\n",
      "ax.set_xticklabels(row_labels, minor=False)\n",
      "ax.set_yticklabels(column_labels, minor=False)\n",
      "plt.show()"
     ],
     "language": "python",
     "metadata": {},
     "outputs": [
      {
       "metadata": {},
       "output_type": "display_data",
       "png": "[encoded data removed]",
       "text": [
        "<matplotlib.figure.Figure at 0x22049dd8>"
       ]
      }
     ],
     "prompt_number": 136
    },
    {
     "cell_type": "markdown",
     "metadata": {},
     "source": [
      "Now we can instantly see which books are more negative than others. Player Piano appears to use the most positive language, Lord of the Flies the most negative. We can also see a general pattern in four of the five novels: they start out positive, gradually becoming more negative towards the end.\n",
      "\n",
      "Now I'll produce the same chart for weapon words:"
     ]
    },
    {
     "cell_type": "code",
     "collapsed": false,
     "input": [
      "# Source: http://www.bertplot.com/visualization/?p=292\n",
      "import numpy as np\n",
      "%matplotlib inline\n",
      "#data = np.array([[12.66178731132628, -7.1078476450363395, 4.9885373521597565, 5.052445736635747, 7.167156760913025, 0.9215098773324027, 4.764846783672072, 5.022633330851844, 2.6395015853665065, 1.439919269776978, 16.804201392602724, -3.3889507441097284, 3.3795892458430368, -4.516446323099336, -8.893766521349438, -9.29789291686943, -2.0903473985315015, -11.35465070364567, -10.75299387579246, -0.2725948939797679]])\n",
      "import matplotlib.pyplot as plt\n",
      "import numpy as np\n",
      "column_labels = list([book for book in books])\n",
      "row_labels = list(range(0, num_bags))\n",
      "data = np.array(normalized_weapon_data)\n",
      "fig, ax = plt.subplots()\n",
      "heatmap = ax.pcolor(data, vmin=-1, vmax=1, cmap=plt.cm.Purples)\n",
      "\n",
      "# put the major ticks at the middle of each cell\n",
      "ax.set_xticks(np.arange(0,num_bags)+0.5, minor=False)\n",
      "ax.set_yticks(np.arange(0,5)+0.5, minor=False)\n",
      "\n",
      "# want a more natural, table-like display\n",
      "ax.invert_yaxis()\n",
      "ax.xaxis.tick_top()\n",
      "\n",
      "ax.set_xticklabels(row_labels, minor=False)\n",
      "ax.set_yticklabels(column_labels, minor=False)\n",
      "plt.show()"
     ],
     "language": "python",
     "metadata": {},
     "outputs": [
      {
       "metadata": {},
       "output_type": "display_data",
       "png": "[encoded data removed]",
       "text": [
        "<matplotlib.figure.Figure at 0x22049550>"
       ]
      }
     ],
     "prompt_number": 138
    },
    {
     "cell_type": "code",
     "collapsed": false,
     "input": [
      "# Source: http://stackoverflow.com/questions/8154511/drawing-a-correlation-graph-in-matplotlib\n",
      "import matplotlib.pyplot as plt\n",
      "import numpy as np\n",
      "\n",
      "def plotData(inData,color):\n",
      "    x,y = zip(*inData)\n",
      "\n",
      "    x = np.array(x)\n",
      "    y = np.array(y)\n",
      "    \n",
      "    xAsInts = x\n",
      "\n",
      "    pearR = np.corrcoef(xAsInts,y)[1,0]\n",
      "    # least squares from:\n",
      "    # http://docs.scipy.org/doc/numpy/reference/generated/numpy.linalg.lstsq.html\n",
      "    A = np.vstack([xAsInts,np.ones(len(xAsInts))]).T\n",
      "    m,c = np.linalg.lstsq(A,np.array(y))[0]\n",
      "\n",
      "    plt.scatter(xAsInts,y,label='Data '+color,color=color)\n",
      "    plt.plot(xAsInts,xAsInts*m+c,color=color,\n",
      "             label=\"Fit %6s, r = %6.2e\"%(color,pearR))\n",
      "    plt.xticks(x,x)\n",
      "    #plt.legend(loc=3)\n",
      "    \n",
      "j = 0\n",
      "for title in books:\n",
      "    print(\"Chart for \", title)\n",
      "    _data_a = normalized_sentiment_data[j]\n",
      "    _data_b = normalized_weapon_data[j]\n",
      "    data_a = []\n",
      "    data_b = []\n",
      "\n",
      "    i = 0\n",
      "    for item in _data_a:\n",
      "        data_a.append((i, item))\n",
      "        i += 1\n",
      "\n",
      "    i = 0\n",
      "    for item in _data_b:\n",
      "        data_b.append((i, item))\n",
      "        i += 1\n",
      "    plt.figure()\n",
      "    plotData(data_a, 'green')\n",
      "    plotData(data_b, 'purple')\n",
      "    j += 1\n",
      "    plt.show()\n",
      "\n",
      "    \n"
     ],
     "language": "python",
     "metadata": {},
     "outputs": [
      {
       "output_type": "stream",
       "stream": "stdout",
       "text": [
        "Chart for  neuromancer\n"
       ]
      },
      {
       "metadata": {},
       "output_type": "display_data",
       "png": "[encoded data removed]",
       "text": [
        "<matplotlib.figure.Figure at 0x206e1b00>"
       ]
      },
      {
       "output_type": "stream",
       "stream": "stdout",
       "text": [
        "Chart for  lord of the flies\n"
       ]
      },
      {
       "metadata": {},
       "output_type": "display_data",
       "png": "[encoded data removed]",
       "text": [
        "<matplotlib.figure.Figure at 0x20770630>"
       ]
      },
      {
       "output_type": "stream",
       "stream": "stdout",
       "text": [
        "Chart for  1984\n"
       ]
      },
      {
       "metadata": {},
       "output_type": "display_data",
       "png": "[encoded data removed]",
       "text": [
        "<matplotlib.figure.Figure at 0x22380080>"
       ]
      },
      {
       "output_type": "stream",
       "stream": "stdout",
       "text": [
        "Chart for  player piano (utopia 14)\n"
       ]
      },
      {
       "metadata": {},
       "output_type": "display_data",
       "png": "[encoded data removed]",
       "text": [
        "<matplotlib.figure.Figure at 0x206e6cc0>"
       ]
      },
      {
       "output_type": "stream",
       "stream": "stdout",
       "text": [
        "Chart for  this perfect day\n"
       ]
      },
      {
       "metadata": {},
       "output_type": "display_data",
       "png": "[encoded data removed]",
       "text": [
        "<matplotlib.figure.Figure at 0x21c58940>"
       ]
      }
     ],
     "prompt_number": 139
    },
    {
     "cell_type": "markdown",
     "metadata": {},
     "source": [
      "And the data looks much more flat than sentiment. But we can still pick out trends. While weapon word usage remains mostly constant, we see small spikes particularly towards the ends of novels, when their most climactic scenes take place. For some, like This Perfect Day, we can see that the second half of the book in full is slightly darker than the first half.\n",
      "\n",
      "Viewing these two charts we think we can see a possible (inverse) correlation---and one that's not entirely unexpected!---as a novel progresses, its language becomes more negative as the author attempts to create more tension and suspense. Since this tension between characters in conflict often involves weapons, we see the usage of weapon-words rising as we approach the end. We can also see small humps slightly after the middle of each story where minor action must occur.\n",
      "\n",
      "But what I think will be the most interesting is to attempt to plot the two datasets into one chart and compare their linear best-fit lines. While this type of comparison comes with some caveats, we might see interesting results."
     ]
    },
    {
     "cell_type": "markdown",
     "metadata": {},
     "source": [
      "Here we see some interesting patterns. In Lord of the Flies and This Perfect Day we see a dramatic inverse correlation between decreasing sentiment and increasing usage of weapons. Neuromancer, a book where we see much of the action taking place in the virtual world of the matrix, sees only a modest increase in weapon usage while its sentiment declines. And in Player Piano's weapon usage and sentiment remain flat throughout the novel. \n",
      "\n",
      "Spotting on a segment-by-segment basis we can also see that, very often, when an individual segment's sentiment shoots up, its usage of weapons falls, or vice versa. Consider segments 5,6,7, or 12, 13, 14, of This Perfect Day. \n",
      "\n",
      "1984 is an anomaly. \n",
      "\n",
      "Next steps would be to, first of all, to make the corpus of novels bigger, expand the list of weapon words to attempt to be more comprehensive, and to consider additional means of measuring the relationship between the two datasets beyond comparing the linear least squares relationships. We could also find a way to aggregate the data from all five novels into a single comparison. "
     ]
    },
    {
     "cell_type": "code",
     "collapsed": false,
     "input": [],
     "language": "python",
     "metadata": {},
     "outputs": []
    }
   ],
   "metadata": {}
  }
 ]
}